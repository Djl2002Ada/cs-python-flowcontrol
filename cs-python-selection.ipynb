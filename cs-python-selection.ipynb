{
 "cells": [
  {
   "cell_type": "markdown",
   "metadata": {},
   "source": [
    "# Flow Control - Selection\n",
    "\n",
    "Sometimes we only want a program to execute code under certain circumstances.  We call this selection.  The most commonly used way of doing this is using if.  Here we say if a condition is true execute some code. \n",
    "First we need to make sure we are happy what a condition is.  A boolean condition is one that can have only two values true or false. \n",
    "\n",
    "**The boolean comparison operators are as follows:**\n",
    " \n",
    "\n",
    "\n",
    "| Operator | Meaning                  |\n",
    "|----------|--------------------------|\n",
    "| ==       | Equal to                 |\n",
    "| !=       | Not equal to             |\n",
    "| <        | Less than                |\n",
    "| <=       | Less than or equal to    |\n",
    "| >        | Greater than             |\n",
    "| >=       | Greater than or equal to |\n",
    "\n"
   ]
  },
  {
   "cell_type": "code",
   "execution_count": 1,
   "metadata": {},
   "outputs": [
    {
     "name": "stdout",
     "output_type": "stream",
     "text": [
      "This prints if letter is a\n"
     ]
    }
   ],
   "source": [
    "#run this code\n",
    "letter = 'a'\n",
    "if letter =='a':\n",
    "    print('This prints if letter is a')"
   ]
  },
  {
   "cell_type": "markdown",
   "metadata": {},
   "source": [
    "We can add as many statements we want inside the **if**.  Each should be indented.\n",
    "We can tell the computer to do something different when the condition isn’t true using the else keyword."
   ]
  },
  {
   "cell_type": "code",
   "execution_count": 3,
   "metadata": {},
   "outputs": [
    {
     "name": "stdout",
     "output_type": "stream",
     "text": [
      "This prints if the letter is not an a\n"
     ]
    }
   ],
   "source": [
    "#run this code\n",
    "letter = 'b'\n",
    "if letter =='a':\n",
    "    print('This prints if letter is a')\n",
    "else:\n",
    "    print('This prints if the letter is not an a')"
   ]
  },
  {
   "cell_type": "markdown",
   "metadata": {},
   "source": [
    "Now lets change the value of the variable:"
   ]
  },
  {
   "cell_type": "code",
   "execution_count": 4,
   "metadata": {},
   "outputs": [
    {
     "name": "stdout",
     "output_type": "stream",
     "text": [
      "This prints if the letter is not an a\n"
     ]
    }
   ],
   "source": [
    "#run this code\n",
    "letter = 'b'\n",
    "if letter =='a':\n",
    "    print('This prints if letter is a')\n",
    "else:\n",
    "    print('This prints if the letter is not an a')"
   ]
  },
  {
   "cell_type": "markdown",
   "metadata": {},
   "source": [
    "### Task 1:\n",
    "Write a program that tells the user what to wear (shorts, trousers, hat, coat, etc that you choose) based on the temperature that they input.\n",
    "\n",
    "Use well-named variable(s), constants(s), string(s), type conversion, a complex IF statement, comparison and logical operators, and good input and output messages."
   ]
  },
  {
   "cell_type": "code",
   "execution_count": 5,
   "metadata": {},
   "outputs": [
    {
     "name": "stdout",
     "output_type": "stream",
     "text": [
      "what is the temperature9\n",
      "wear warm clothes i.e coat\n"
     ]
    }
   ],
   "source": [
    "# add your code here\n",
    "temp = int(input(\"what is the temperature \"))\n",
    "if temp >= 25:\n",
    "    print(\"wear cool clothes i.e. shorts and T-shirt\")\n",
    "elif temp <= 10:\n",
    "    print(\"wear warm clothes i.e coat\")\n",
    "else:\n",
    "    print(\"wear what you want\")"
   ]
  },
  {
   "cell_type": "markdown",
   "metadata": {},
   "source": [
    "### Logical operators and True and False"
   ]
  },
  {
   "cell_type": "code",
   "execution_count": 6,
   "metadata": {},
   "outputs": [
    {
     "data": {
      "text/plain": [
       "True"
      ]
     },
     "execution_count": 6,
     "metadata": {},
     "output_type": "execute_result"
    }
   ],
   "source": [
    "x = 2\n",
    "1 < x < 3\n",
    "# Run this cell block and observe the result.\n"
   ]
  },
  {
   "cell_type": "code",
   "execution_count": null,
   "metadata": {},
   "outputs": [],
   "source": [
    "#What is happening here?  If the variable is between 1 and 3 it is true"
   ]
  },
  {
   "cell_type": "code",
   "execution_count": 6,
   "metadata": {},
   "outputs": [
    {
     "data": {
      "text/plain": [
       "False"
      ]
     },
     "execution_count": 6,
     "metadata": {},
     "output_type": "execute_result"
    }
   ],
   "source": [
    "x = 2\n",
    "10 < x < 20\n",
    "# Run this cell block and observe the result."
   ]
  },
  {
   "cell_type": "code",
   "execution_count": null,
   "metadata": {},
   "outputs": [],
   "source": [
    "#What is happening here? Write here as a comment what is happening."
   ]
  },
  {
   "cell_type": "code",
   "execution_count": 7,
   "metadata": {},
   "outputs": [
    {
     "data": {
      "text/plain": [
       "True"
      ]
     },
     "execution_count": 7,
     "metadata": {},
     "output_type": "execute_result"
    }
   ],
   "source": [
    "x = 2\n",
    "3 > x <= 2\n",
    "# Run this cell block and observe the result."
   ]
  },
  {
   "cell_type": "code",
   "execution_count": null,
   "metadata": {},
   "outputs": [],
   "source": [
    "#What is happening here? Write here as a comment what is happening."
   ]
  },
  {
   "cell_type": "code",
   "execution_count": 8,
   "metadata": {},
   "outputs": [
    {
     "data": {
      "text/plain": [
       "True"
      ]
     },
     "execution_count": 8,
     "metadata": {},
     "output_type": "execute_result"
    }
   ],
   "source": [
    "x = 2\n",
    "2 == x < 4\n",
    "# Run this cell block and observe the result."
   ]
  },
  {
   "cell_type": "code",
   "execution_count": null,
   "metadata": {},
   "outputs": [],
   "source": [
    "#What is happening here? Write here as a comment what is happening."
   ]
  },
  {
   "cell_type": "markdown",
   "metadata": {},
   "source": [
    "### A Note on Indentation\n",
    "When you start a new line after a colon your code (if writing with an IDE or code editor) you should find your cursor indented ready to start typing.  Lines will keep indenting until you press backspace.  Python knows that anything indented is inside the structure with the colon - in this case the **if**.  Indenting is considered good practice in all programming languages as it makes code easier to read but in Python it is even more important as it affects how the code is interpreted and you will get errors if not indented correctly."
   ]
  },
  {
   "cell_type": "code",
   "execution_count": 10,
   "metadata": {},
   "outputs": [
    {
     "name": "stdout",
     "output_type": "stream",
     "text": [
      "Enter a number between 1 and 100: 101\n",
      "Your number is not valid\n"
     ]
    }
   ],
   "source": [
    "# input any number between 1 and 100\n",
    "x=int(input('Enter a number between 1 and 100: '))\n",
    "# check the validity of the number\n",
    "if x>=1 and x<=100:\n",
    "    print('You have entered a valid number')\n",
    "else:\n",
    "    print('Your number is not valid')"
   ]
  },
  {
   "cell_type": "markdown",
   "metadata": {},
   "source": [
    "### Question \n",
    "\n",
    "**A common mistake would be to write the if line as if x>=1 and <=100 missing out the second x.  Remove the x and check out the result. Does it generate an error?** "
   ]
  },
  {
   "cell_type": "code",
   "execution_count": null,
   "metadata": {},
   "outputs": [],
   "source": [
    "#  YES "
   ]
  },
  {
   "cell_type": "markdown",
   "metadata": {},
   "source": [
    "#### Logical operators\n",
    "For more complex conditions we can use AND, OR and NOT. \n",
    "\n",
    "AND : both conditions must be TRUE\n",
    "\n",
    "OR : one condition must be TRUE\n",
    "\n",
    "NOT : only applies to one condition - the opposite"
   ]
  },
  {
   "cell_type": "markdown",
   "metadata": {},
   "source": [
    "## Psuedocode example for IF/ELSE statements\n",
    "\n",
    "IF age > 12 AND height > 3 THEN\n",
    "\n",
    "  OUTPUT “You can ride the roller coaster”\n",
    "  \n",
    "END IF\n",
    "\n",
    "IF age <13 OR age > 19 THEN\n",
    "\n",
    "  OUTPUT “You are not eligible for teen discount”\n",
    "  \n",
    "END IF\n",
    "\n",
    "IF NOT ((age > 12) AND (height > 3)) THEN\n",
    "\n",
    "  OUTPUT “You cannot ride the roller coaster”\n",
    "  \n",
    "END IF"
   ]
  },
  {
   "cell_type": "code",
   "execution_count": null,
   "metadata": {},
   "outputs": [],
   "source": [
    "#if hieght is greater than 3 and age greater than 12 then print that the user can go on the ride. if the age is above 13 \n",
    "#or below 19 then print you are able to get the teen discount. else print the user is not allowed on the roller coaster"
   ]
  },
  {
   "cell_type": "markdown",
   "metadata": {},
   "source": [
    "### Task 2:\n",
    "\n",
    "The grade boundaries for a test are:\n",
    "U -  0\n",
    "D – 40\n",
    "C – 50\n",
    "B – 60\n",
    "A – 70\n",
    "\n",
    "Write a Python program that asks for a mark and then says what grade it is worth."
   ]
  },
  {
   "cell_type": "code",
   "execution_count": null,
   "metadata": {},
   "outputs": [],
   "source": [
    "# write your code here\n",
    "grade = int(input(\"input your grade \"))\n",
    "if grade < 40:\n",
    "    print(\"u\")\n",
    "elif grade < 50:\n",
    "    print(\"D\")\n",
    "if grade < 60:\n",
    "    print(\"C\")\n",
    "if grade < 70:\n",
    "    print(\"B\")\n",
    "else:\n",
    "    print(\"A\")"
   ]
  },
  {
   "cell_type": "markdown",
   "metadata": {},
   "source": [
    "### Task 3:\n",
    "Write a Python program which asks the user to enter the cost of two items, adds the two costs and if the cost is greater than £10.00, displays a message “Sorry, too much”. Otherwise it displays the change due from £10.00."
   ]
  },
  {
   "cell_type": "code",
   "execution_count": 9,
   "metadata": {},
   "outputs": [
    {
     "name": "stdout",
     "output_type": "stream",
     "text": [
      "enter price of first item5.90\n",
      "enter price of second item6.70\n",
      "sorry, too much\n"
     ]
    }
   ],
   "source": [
    "# write your code here\n",
    "num1 = float(input(\"enter price of first item\"))\n",
    "num2 = float(input(\"enter price of second item\"))\n",
    "num3 = num1 + num2\n",
    "if num3 > 10.00:\n",
    "    print(\"sorry, too much\")\n",
    "else:\n",
    "    change = 10 - num3\n",
    "    print(change)"
   ]
  },
  {
   "cell_type": "markdown",
   "metadata": {},
   "source": [
    "### Task 4: Using IF-ELSE statements, write the Python program for the following problems.\n",
    "\n",
    "1) Allow entry to a film at the cinema if the user is older than 18 or if they are accompanied by an adult.\n",
    "\n",
    "2) Allow the user to come to your party if they are a boy and they like pizza.\n",
    "\n",
    "3) Remind the user to take an umbrella if the temperature is higher than 17 degrees and the chance of rain is higher than 80%"
   ]
  },
  {
   "cell_type": "code",
   "execution_count": null,
   "metadata": {},
   "outputs": [],
   "source": [
    "# write your code here\n",
    "age = int(input(\"input your age\"))\n",
    "if age < 18:\n",
    "    adult = input(\"input if you are acompanied by an adult\")\n",
    "    if adult = Yes:\n",
    "        print(\"you can enter the cinema\")\n",
    "    else:\n",
    "        print(\"you cannot enter the cinema\")\n",
    "else:\n",
    "    print(\"you can enter the cinema\")\n",
    "print(\"----------------------------\")\n",
    "print(\"----------------------------\") \n",
    "print(\"----------------------------\") \n",
    "print(\"----------------------------\") \n",
    "gender = input(\"input if you are a boy or girl\")\n",
    "pizza = input(\"if you like pizza\")\n",
    "if gender == boy:\n",
    "    if pizza == Yes:\n",
    "        print(\"you can come to the party\")\n",
    "    else:\n",
    "        print(\"you cant come to the party\")\n",
    "else:\n",
    "    print(\"you cant come to the party\")  \n",
    "print(\"----------------------------\") \n",
    "print(\"----------------------------\") \n",
    "print(\"----------------------------\") \n",
    "print(\"----------------------------\") \n",
    "\n",
    "temp = int(input(\"what is the temperature?\"))\n",
    "rain = int(input\"(what is the chance of rain\"))\n",
    "if temp > 17:\n",
    "    if rain > 80:\n",
    "        print (\"bring an unbrella\")\n",
    "    else:\n",
    "        print(\"dont bring an unbrella\")\n",
    "else:\n",
    "    print(\"dont bring an unbrella\")"
   ]
  }
 ],
 "metadata": {
  "kernelspec": {
   "display_name": "Python 3",
   "language": "python",
   "name": "python3"
  },
  "language_info": {
   "codemirror_mode": {
    "name": "ipython",
    "version": 3
   },
   "file_extension": ".py",
   "mimetype": "text/x-python",
   "name": "python",
   "nbconvert_exporter": "python",
   "pygments_lexer": "ipython3",
   "version": "3.6.8"
  }
 },
 "nbformat": 4,
 "nbformat_minor": 2
}
